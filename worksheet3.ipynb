{
 "cells": [
  {
   "cell_type": "code",
   "execution_count": null,
   "metadata": {
    "deletable": false,
    "editable": false
   },
   "outputs": [],
   "source": [
    "# Initialize Otter\n",
    "import otter\n",
    "grader = otter.Notebook(\"worksheet3.ipynb\")"
   ]
  },
  {
   "cell_type": "markdown",
   "metadata": {},
   "source": [
    "# Worksheet 3: CRUD operations in MongoDB"
   ]
  },
  {
   "cell_type": "markdown",
   "metadata": {},
   "source": [
    "Welcome! In this week, we will practice some basic CRUD (Create, Replace, Update, Delete) operations in MongoDB using Pymongo."
   ]
  },
  {
   "cell_type": "markdown",
   "metadata": {},
   "source": [
    "## Establish Pymongo connection"
   ]
  },
  {
   "cell_type": "markdown",
   "metadata": {},
   "source": [
    "Recall that in worksheet1, we have created a cluster on MongoDB Atlas and connect to it via Pymongo and a credentials JSON file. Let's reestablish that connection for our exercises.\n",
    "\n",
    "- Make sure you use the `adsc_3610` conda environment.\n",
    "- You might need to copy & paste the `credentials_mongodb.json` file that you used in worksheet1 to the working directory of worksheet3."
   ]
  },
  {
   "cell_type": "code",
   "execution_count": null,
   "metadata": {},
   "outputs": [],
   "source": [
    "from pymongo import MongoClient # import mongo client to connect\n",
    "import json # import json to load credentials\n",
    "import urllib.parse\n",
    "\n",
    "# load credentials from json file\n",
    "with open('credentials_mongodb.json') as f:\n",
    "    login = json.load(f)\n",
    "\n",
    "# assign credentials to variables\n",
    "username = login['username']\n",
    "password = urllib.parse.quote(login['password'])\n",
    "host = login['host']\n",
    "url = \"mongodb+srv://{}:{}@{}/?retryWrites=true&w=majority\".format(username, password, host)"
   ]
  },
  {
   "cell_type": "code",
   "execution_count": null,
   "metadata": {},
   "outputs": [],
   "source": [
    "# connect to the database\n",
    "client = MongoClient(url)"
   ]
  },
  {
   "cell_type": "code",
   "execution_count": null,
   "metadata": {},
   "outputs": [],
   "source": [
    "# drop database books and students if they exist\n",
    "client.drop_database('books')\n",
    "client.drop_database('students')"
   ]
  },
  {
   "cell_type": "markdown",
   "metadata": {},
   "source": [
    "To test if your connection has been succesful, let's try to print out all the databases"
   ]
  },
  {
   "cell_type": "code",
   "execution_count": null,
   "metadata": {},
   "outputs": [],
   "source": [
    "# list all databases\n",
    "client.list_database_names()"
   ]
  },
  {
   "cell_type": "markdown",
   "metadata": {},
   "source": [
    "## MongoDB VScode extension (optional)"
   ]
  },
  {
   "cell_type": "markdown",
   "metadata": {},
   "source": [
    "If you are using VScode, there is a MongoDB extension which provides a handy view of the databases (instead of having to view it on MongoDB Atlas via a browser).\n",
    "\n",
    "To install the extension, navigate to the extension bar in VS code and search for \"mongodb\"\n",
    "\n",
    "![](img/vscode.png)"
   ]
  },
  {
   "cell_type": "markdown",
   "metadata": {},
   "source": [
    "After installing the extension, you can now connect to your MongoDB Atlas cluster via the connection string.\n",
    "\n",
    "![](img/connect.png)"
   ]
  },
  {
   "cell_type": "markdown",
   "metadata": {},
   "source": [
    "To find your connection string, open a browser and navigate to MongoDB Atlas. \n",
    "- Under your cluster, click `connect`\n",
    "- Select `MongoDB for VScode`\n",
    "- Copy that URL and paste it in VScode"
   ]
  },
  {
   "cell_type": "markdown",
   "metadata": {},
   "source": [
    "![](img/string.png)"
   ]
  },
  {
   "cell_type": "markdown",
   "metadata": {},
   "source": [
    "Once connected, you should now be able to see an overview of your databases. Now you can manage your MongoDB and do programming all within VSCode. "
   ]
  },
  {
   "cell_type": "markdown",
   "metadata": {},
   "source": [
    "Now that we have establish the connection to our MongoDB cluster, let's get started with the exercises:"
   ]
  },
  {
   "cell_type": "markdown",
   "metadata": {},
   "source": [
    "## Exercise 1: Import data into MongoDB\n",
    "\n",
    "{rubric: accuracy = 5}\n",
    "\n",
    "Let's first create a new database called `school` and store it in an object named `db`. We then create a new collection called `students`"
   ]
  },
  {
   "cell_type": "code",
   "execution_count": null,
   "metadata": {},
   "outputs": [],
   "source": [
    "# Step 1: Connect to your MongoDB cluster\n",
    "client = MongoClient(url)\n",
    "\n",
    "# Step 2: Create a new database named 'school' and store it in a variable named db\n",
    "db = client.school\n",
    "\n",
    "# Step 3: Create a collection named 'students' and insert sample documents\n",
    "students = db.students"
   ]
  },
  {
   "cell_type": "markdown",
   "metadata": {},
   "source": [
    "Let's insert a sample student document to our `students` collection"
   ]
  },
  {
   "cell_type": "code",
   "execution_count": null,
   "metadata": {},
   "outputs": [],
   "source": [
    "# Sample document to insert\n",
    "sample_students = [{\"name\": \"Alice\", \"age\": 20, \"major\": \"Computer Science\"},\n",
    "            {\"name\": \"Bob\", \"age\": 21, \"major\": \"Mathematics\"},\n",
    "            {\"name\": \"Charlie\", \"age\": 22, \"major\": \"Engineering\"}]\n",
    "\n",
    "# Insert the sample document\n",
    "students.insert_many(sample_students)"
   ]
  },
  {
   "cell_type": "markdown",
   "metadata": {},
   "source": [
    "You should see that the document has been inserted into our `students` collection, and it was assigned an `ObjectId`. "
   ]
  },
  {
   "cell_type": "markdown",
   "metadata": {},
   "source": [
    "> Note: Every document in MongoDB must have an `ObjectId`. If it doesn't exist, then MongoDB will create a new one automatically"
   ]
  },
  {
   "cell_type": "markdown",
   "metadata": {},
   "source": [
    "Now we can print out the documents that we just inserted"
   ]
  },
  {
   "cell_type": "code",
   "execution_count": null,
   "metadata": {},
   "outputs": [],
   "source": [
    "# Find the document that was just inserted\n",
    "# The find_one() method returns the first occurrence in the selection.\n",
    "students.find_one()"
   ]
  },
  {
   "cell_type": "code",
   "execution_count": null,
   "metadata": {},
   "outputs": [],
   "source": [
    "# Find the document by a specific attribute\n",
    "students.find_one({\"name\": \"Bob\"})"
   ]
  },
  {
   "cell_type": "code",
   "execution_count": null,
   "metadata": {},
   "outputs": [],
   "source": [
    "# Find all documents in the collection\n",
    "# The find() method returns all occurrences in the selection.\n",
    "for student in students.find():\n",
    "    print(student)"
   ]
  },
  {
   "cell_type": "markdown",
   "metadata": {},
   "source": [
    "Now if you navigate to your databases in MongoDB Atlas, or using the VSCode MongoDB extension, you should see there's a new database called `school`. Within that database, there should be a collection named `students`, which contains one document about Alice"
   ]
  },
  {
   "cell_type": "code",
   "execution_count": null,
   "metadata": {},
   "outputs": [],
   "source": [
    "# Try to find all documents where age is greater than 20\n",
    "for student in students.find({\"age\": {\"$gt\": 20}}):\n",
    "    print(student)"
   ]
  },
  {
   "cell_type": "markdown",
   "metadata": {},
   "source": [
    "### YOUR TURN\n",
    "\n",
    "### 1.1\n",
    "\n",
    "- Create a new database called `bookstore`, stored it in a variable called `bookstore`\n",
    "- Create a collection called `books`, stored it in a variable called `books`"
   ]
  },
  {
   "cell_type": "code",
   "execution_count": null,
   "metadata": {
    "tags": []
   },
   "outputs": [],
   "source": [
    "# Create a new database called `bookstore`, stored it in a variable called `bookstore`\n",
    "# YOUR CODE HERE\n",
    "bookstore = ...\n",
    "\n",
    "# Create a collection called `books` \n",
    "# YOUR CODE HERE\n",
    "books = ..."
   ]
  },
  {
   "cell_type": "code",
   "execution_count": null,
   "metadata": {
    "tags": []
   },
   "outputs": [],
   "source": [
    "sample_books = [\n",
    "    {\"title\": \"The Great Gatsby\", \"author\": \"F. Scott Fitzgerald\", \"genre\": \"Fiction\", \"price\": 10.99},\n",
    "    {\"title\": \"To Kill a Mockingbird\", \"author\": \"Harper Lee\", \"genre\": \"Fiction\", \"price\": 8.99},\n",
    "    {\"title\": \"A Brief History of Time\", \"author\": \"Stephen Hawking\", \"genre\": \"Non-Fiction\", \"price\": 15.99}\n",
    "]\n",
    "\n",
    "# YOUR CODE HERE\n",
    "\n",
    "..."
   ]
  },
  {
   "cell_type": "code",
   "execution_count": null,
   "metadata": {
    "tags": []
   },
   "outputs": [],
   "source": [
    "# Print out a book with author as Stephen Hawking\n",
    "# YOUR CODE HERE\n",
    "..."
   ]
  },
  {
   "cell_type": "code",
   "execution_count": null,
   "metadata": {
    "tags": []
   },
   "outputs": [],
   "source": [
    "# Print out all books with price less than $10\n",
    "# YOUR CODE HERE\n",
    "...\n",
    "    ..."
   ]
  },
  {
   "cell_type": "markdown",
   "metadata": {
    "deletable": false,
    "editable": false
   },
   "source": [
    "Run the test below to see if you have done it correctly"
   ]
  },
  {
   "cell_type": "code",
   "execution_count": null,
   "metadata": {
    "deletable": false,
    "editable": false
   },
   "outputs": [],
   "source": [
    "grader.check(\"ex1_1\")"
   ]
  },
  {
   "cell_type": "markdown",
   "metadata": {},
   "source": [
    "### 1.2 Import from JSON"
   ]
  },
  {
   "cell_type": "markdown",
   "metadata": {},
   "source": [
    "Imagine we have a dataset called `students.json` and we would like to import it into the `students` collection in our MongoDB database."
   ]
  },
  {
   "cell_type": "code",
   "execution_count": null,
   "metadata": {},
   "outputs": [],
   "source": [
    "import json\n",
    "\n",
    "# Step 1: Load JSON data\n",
    "with open('students.json', 'r') as file:\n",
    "    data = json.load(file)\n"
   ]
  },
  {
   "cell_type": "code",
   "execution_count": null,
   "metadata": {},
   "outputs": [],
   "source": [
    "# view what the data looks like (first 5 records)\n",
    "data[:5]"
   ]
  },
  {
   "cell_type": "code",
   "execution_count": null,
   "metadata": {},
   "outputs": [],
   "source": [
    "\n",
    "# Step 2: Insert JSON data into a collection\n",
    "students.insert_many(data)  # For a list of documents\n"
   ]
  },
  {
   "cell_type": "code",
   "execution_count": null,
   "metadata": {},
   "outputs": [],
   "source": [
    "# Find all documents in the collection\n",
    "# The find() method returns all occurrences in the selection.\n",
    "for student in students.find():\n",
    "    print(student)"
   ]
  },
  {
   "cell_type": "markdown",
   "metadata": {
    "deletable": false,
    "editable": false
   },
   "source": [
    "Now it's your turn, import the `books.json` into the `books` collection in the `bookstore` database in your MongoDB."
   ]
  },
  {
   "cell_type": "code",
   "execution_count": null,
   "metadata": {
    "tags": []
   },
   "outputs": [],
   "source": [
    "..."
   ]
  },
  {
   "cell_type": "code",
   "execution_count": null,
   "metadata": {
    "deletable": false,
    "editable": false
   },
   "outputs": [],
   "source": [
    "grader.check(\"ex1_2\")"
   ]
  },
  {
   "cell_type": "markdown",
   "metadata": {},
   "source": [
    "## Exercise 2: Insert & update new field"
   ]
  },
  {
   "cell_type": "markdown",
   "metadata": {},
   "source": [
    "Let's say we want to add a field called `gpa` to the `students` collection. Here's how"
   ]
  },
  {
   "cell_type": "code",
   "execution_count": null,
   "metadata": {},
   "outputs": [],
   "source": [
    "# Step 1: Define the new field and its value\n",
    "new_field = {\"gpa\": None}\n",
    "\n",
    "# Step 2: Update all documents to include the new field\n",
    "students.update_many({}, {\"$set\": new_field})"
   ]
  },
  {
   "cell_type": "code",
   "execution_count": null,
   "metadata": {},
   "outputs": [],
   "source": [
    "# check if the new field was added\n",
    "for student in students.find():\n",
    "    print(student)"
   ]
  },
  {
   "cell_type": "markdown",
   "metadata": {},
   "source": [
    "Let's try to update the `gpa` of Jack Daniels to 3.4"
   ]
  },
  {
   "cell_type": "code",
   "execution_count": null,
   "metadata": {},
   "outputs": [],
   "source": [
    "# Step 2: Define the filter and the new value\n",
    "filter = {\"name\": \"Jack Daniels\"}\n",
    "new_value = {\"$set\": {\"gpa\": 3.4}}\n",
    "\n",
    "# Step 3: Update the specific document\n",
    "students.update_one(filter, new_value)"
   ]
  },
  {
   "cell_type": "code",
   "execution_count": null,
   "metadata": {},
   "outputs": [],
   "source": [
    "# check Jack Daniels GPA\n",
    "students.find_one({\"name\": \"Jack Daniels\"})\n",
    "\n"
   ]
  },
  {
   "cell_type": "markdown",
   "metadata": {
    "deletable": false,
    "editable": false
   },
   "source": [
    "Now it's your turn. \n",
    "- Insert a field called `\"publisher\"` into the `books` collection with a default value of `\"Unknown\"`. \n",
    "- Update the `publisher` of the book with the author name is \"Ray Bradbury\", to \"Penguin Books\""
   ]
  },
  {
   "cell_type": "code",
   "execution_count": null,
   "metadata": {
    "tags": []
   },
   "outputs": [],
   "source": [
    "..."
   ]
  },
  {
   "cell_type": "code",
   "execution_count": null,
   "metadata": {
    "tags": []
   },
   "outputs": [],
   "source": [
    "# print out the document by Ray Bradbury"
   ]
  },
  {
   "cell_type": "code",
   "execution_count": null,
   "metadata": {
    "deletable": false,
    "editable": false
   },
   "outputs": [],
   "source": [
    "grader.check(\"ex2\")"
   ]
  },
  {
   "cell_type": "markdown",
   "metadata": {},
   "source": [
    "## Exercise 3: Replace"
   ]
  },
  {
   "cell_type": "markdown",
   "metadata": {},
   "source": [
    "Let's print out our student Jack Daniels"
   ]
  },
  {
   "cell_type": "code",
   "execution_count": null,
   "metadata": {},
   "outputs": [],
   "source": [
    "students.find_one({\"name\": \"Jack Daniels\"})"
   ]
  },
  {
   "cell_type": "markdown",
   "metadata": {},
   "source": [
    "Let's say we want to replace the entire document by a new one. Let's called this `new_student`"
   ]
  },
  {
   "cell_type": "code",
   "execution_count": null,
   "metadata": {},
   "outputs": [],
   "source": [
    "new_student = {\n",
    "    \"name\": \"John Doe\", \n",
    "    \"age\": 25, \n",
    "    \"major\": \"History\", \n",
    "    \"email\": \"john_doe@gmail.com\",\n",
    "    \"gpa\": 3.1\n",
    "}\n",
    "\n",
    "students.replace_one({\"name\": \"Jack Daniels\"}, new_student)\n",
    "\n",
    "# check if Jack Daniels was replaced\n",
    "students.find_one({\"name\": \"Jack Daniels\"})\n"
   ]
  },
  {
   "cell_type": "code",
   "execution_count": null,
   "metadata": {},
   "outputs": [],
   "source": [
    "students.find_one({\"name\": \"John Doe\"})\n"
   ]
  },
  {
   "cell_type": "markdown",
   "metadata": {},
   "source": [
    "Now it's your turn.\n",
    "\n",
    "Replace the book by Stephen Hawking with the `new_book`"
   ]
  },
  {
   "cell_type": "code",
   "execution_count": null,
   "metadata": {
    "tags": []
   },
   "outputs": [],
   "source": [
    "new_book = {\n",
    "    \"title\": \"The Universe in a Nutshell\",\n",
    "    \"author\": \"Stephen Hawking\",\n",
    "    \"genre\": \"Non-Fiction\",\n",
    "    \"price\": 12.99,\n",
    "    \"publisher\": \"Bantam Books\"\n",
    "}\n",
    "\n",
    "# YOUR CODE HERE\n",
    "...\n"
   ]
  },
  {
   "cell_type": "code",
   "execution_count": null,
   "metadata": {
    "tags": []
   },
   "outputs": [],
   "source": [
    "# print out the document by Stephen Hawking\n",
    "..."
   ]
  },
  {
   "cell_type": "code",
   "execution_count": null,
   "metadata": {
    "deletable": false,
    "editable": false
   },
   "outputs": [],
   "source": [
    "grader.check(\"ex3\")"
   ]
  },
  {
   "cell_type": "markdown",
   "metadata": {},
   "source": [
    "## Exercise 4: Delete\n"
   ]
  },
  {
   "cell_type": "markdown",
   "metadata": {},
   "source": [
    "Let's say I want to delete all documents in the `students` collection where their `age` is above 21"
   ]
  },
  {
   "cell_type": "code",
   "execution_count": null,
   "metadata": {},
   "outputs": [],
   "source": [
    "# Step 1: Define the filter to find the documents to be deleted\n",
    "filter = {\"age\": {\"$gt\": 21}}\n",
    "\n",
    "# Step 2: Delete the documents\n",
    "result = students.delete_many(filter)\n",
    "\n",
    "# Step 3: Print the number of documents deleted\n",
    "print(result.deleted_count, \" documents deleted.\")\n",
    "\n",
    "# check if the documents were deleted\n",
    "for student in students.find():\n",
    "    print(student)"
   ]
  },
  {
   "cell_type": "markdown",
   "metadata": {},
   "source": [
    "Now it's your turn.\n",
    "\n",
    "Delete all the documents in the `books` collection where the `title` start with letter \"T\" "
   ]
  },
  {
   "cell_type": "markdown",
   "metadata": {},
   "source": [
    "> Hint: You can use regex expression in the filter. For example, if I want all students start with letter \"M\", I would use \n",
    "> \n",
    "> `filter = {\"name\": {\"$regex\": \"^M\"}}`"
   ]
  },
  {
   "cell_type": "code",
   "execution_count": null,
   "metadata": {
    "tags": []
   },
   "outputs": [],
   "source": [
    "# Delete all the documents in the `books` collection where the `title` start with letter \"T\"\n",
    "# YOUR CODE HERE\n",
    "...\n"
   ]
  },
  {
   "cell_type": "code",
   "execution_count": null,
   "metadata": {
    "tags": []
   },
   "outputs": [],
   "source": [
    "# Print the number of documents deleted\n",
    "..."
   ]
  },
  {
   "cell_type": "code",
   "execution_count": null,
   "metadata": {
    "tags": []
   },
   "outputs": [],
   "source": [
    "# check if the documents were deleted\n",
    "# find all books that start with letter \"T\"\n",
    "...\n",
    "    ..."
   ]
  },
  {
   "cell_type": "code",
   "execution_count": null,
   "metadata": {
    "tags": []
   },
   "outputs": [],
   "source": [
    "# print all the documents in the collection\n",
    "...\n",
    "    ..."
   ]
  },
  {
   "cell_type": "code",
   "execution_count": null,
   "metadata": {
    "deletable": false,
    "editable": false
   },
   "outputs": [],
   "source": [
    "grader.check(\"ex4\")"
   ]
  },
  {
   "cell_type": "markdown",
   "metadata": {},
   "source": [
    "## Exercise 5: Visualize"
   ]
  },
  {
   "cell_type": "markdown",
   "metadata": {},
   "source": [
    "Let's say that we are retriving students data and we want to convert the results to pandas DataFrame"
   ]
  },
  {
   "cell_type": "code",
   "execution_count": null,
   "metadata": {},
   "outputs": [],
   "source": [
    "import pandas as pd\n",
    "# Step 2: Query all documents in the collection\n",
    "cursor = students.find()\n",
    "\n",
    "# Step 3: Convert the cursor to a list and then to a DataFrame\n",
    "students_data = list(cursor)\n",
    "df = pd.DataFrame(students_data)\n",
    "\n",
    "# Print the DataFrame to verify\n",
    "df.head()"
   ]
  },
  {
   "cell_type": "markdown",
   "metadata": {},
   "source": [
    "Now let's create a simple bar chart of students' age"
   ]
  },
  {
   "cell_type": "code",
   "execution_count": null,
   "metadata": {},
   "outputs": [],
   "source": [
    "# create a histogram of students age\n",
    "df['age'].plot(kind='hist', title='Age Distribution of Students')"
   ]
  },
  {
   "cell_type": "markdown",
   "metadata": {},
   "source": [
    "Now it's your turn\n",
    "\n",
    "- Convert the `books` collection into a pd.Dataframe called `df_books`\n",
    "- Create a histogram of books' prices"
   ]
  },
  {
   "cell_type": "code",
   "execution_count": null,
   "metadata": {
    "tags": []
   },
   "outputs": [],
   "source": [
    "# Convert the `books` collection into a pd.Dataframe called `df_books`\n",
    "# YOUR CODE HERE\n",
    "..."
   ]
  },
  {
   "cell_type": "code",
   "execution_count": null,
   "metadata": {
    "tags": []
   },
   "outputs": [],
   "source": [
    "# visualize the distribution of book prices\n",
    "..."
   ]
  },
  {
   "cell_type": "code",
   "execution_count": null,
   "metadata": {
    "deletable": false,
    "editable": false
   },
   "outputs": [],
   "source": [
    "grader.check(\"ex5\")"
   ]
  },
  {
   "cell_type": "markdown",
   "metadata": {},
   "source": [
    "## Submission instructions\n",
    "\n",
    "{rubric: mechanics = 5}\n",
    "\n",
    "- Make sure the notebook can run from top to bottom without any error. Restart the kernel and run all cells.\n",
    "- Commit and push your notebook to the github repo\n",
    "- Double check your notebook is rendered properly on Github and you can see all the outputs clearly"
   ]
  }
 ],
 "metadata": {
  "kernelspec": {
   "display_name": "adsc_3610",
   "language": "python",
   "name": "python3"
  },
  "language_info": {
   "codemirror_mode": {
    "name": "ipython",
    "version": 3
   },
   "file_extension": ".py",
   "mimetype": "text/x-python",
   "name": "python",
   "nbconvert_exporter": "python",
   "pygments_lexer": "ipython3",
   "version": "3.12.5"
  },
  "otter": {
   "OK_FORMAT": true,
   "tests": {
    "ex1_1": {
     "name": "ex1_1",
     "points": 5,
     "suites": [
      {
       "cases": [
        {
         "code": ">>> assert 'bookstore' in client.list_database_names(), 'bookstore database does not exist'\n>>> assert 'books' in bookstore.list_collection_names(), 'books collection does not exist'\n",
         "hidden": false,
         "locked": false
        },
        {
         "code": ">>> assert books.find_one({'author': 'Stephen Hawking'}) is not None, 'sample_books were not inserted'\n",
         "hidden": false,
         "locked": false
        },
        {
         "code": ">>> assert books.find_one({'title': 'To Kill a Mockingbird'}) is not None, 'To Kill a Mockingbird is not in the collection'\n",
         "hidden": false,
         "locked": false
        }
       ],
       "scored": true,
       "setup": "",
       "teardown": "",
       "type": "doctest"
      }
     ]
    },
    "ex1_2": {
     "name": "ex1_2",
     "points": 5,
     "suites": [
      {
       "cases": [
        {
         "code": ">>> assert books.find_one({'title': 'Pride and Prejudice'}) is not None, 'Pride and Prejudice is not in the collection'\n",
         "hidden": false,
         "locked": false
        },
        {
         "code": ">>> assert books.find_one({'isbn': '978-0-06-112008-4'}) is not None, 'ISBN 978-0-06-112008-4 is not in the collection'\n",
         "hidden": false,
         "locked": false
        }
       ],
       "scored": true,
       "setup": "",
       "teardown": "",
       "type": "doctest"
      }
     ]
    },
    "ex2": {
     "name": "ex2",
     "points": 5,
     "suites": [
      {
       "cases": [
        {
         "code": ">>> assert books.find_one({'author': 'Ray Bradbury'})['publisher'] == 'Penguin Books', 'publisher field was not added'\n",
         "hidden": false,
         "locked": false
        }
       ],
       "scored": true,
       "setup": "",
       "teardown": "",
       "type": "doctest"
      }
     ]
    },
    "ex3": {
     "name": "ex3",
     "points": 5,
     "suites": [
      {
       "cases": [
        {
         "code": ">>> assert books.find_one({'title': 'The Universe in a Nutshell'}) is not None, 'The Universe in a Nutshell is not in the collection'\n",
         "hidden": false,
         "locked": false
        }
       ],
       "scored": true,
       "setup": "",
       "teardown": "",
       "type": "doctest"
      }
     ]
    },
    "ex4": {
     "name": "ex4",
     "points": 5,
     "suites": [
      {
       "cases": [
        {
         "code": ">>> assert books.find_one({'title': {'$regex': '^T'}}) is None, 'There are documents that start with letter T'\n",
         "hidden": false,
         "locked": false
        }
       ],
       "scored": true,
       "setup": "",
       "teardown": "",
       "type": "doctest"
      }
     ]
    },
    "ex5": {
     "name": "ex5",
     "points": 5,
     "suites": [
      {
       "cases": [
        {
         "code": ">>> assert df_books is not None, 'df_books does not exist'\n",
         "hidden": false,
         "locked": false
        },
        {
         "code": ">>> assert 'title' in df_books.columns, 'title column is missing'\n>>> assert 'author' in df_books.columns, 'author column is missing'\n>>> assert 'price' in df_books.columns, 'price column is missing'\n",
         "hidden": false,
         "locked": false
        }
       ],
       "scored": true,
       "setup": "",
       "teardown": "",
       "type": "doctest"
      }
     ]
    }
   }
  }
 },
 "nbformat": 4,
 "nbformat_minor": 2
}
